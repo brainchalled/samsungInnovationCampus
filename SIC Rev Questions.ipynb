{
 "cells": [
  {
   "cell_type": "code",
   "execution_count": 1,
   "id": "afdf6588-6e5e-42b7-a2d2-bb4d23a3e57b",
   "metadata": {},
   "outputs": [
    {
     "name": "stdout",
     "output_type": "stream",
     "text": [
      "1\n",
      "2\n",
      "3\n",
      "4\n",
      "5\n"
     ]
    }
   ],
   "source": [
    "# Write a while loop that prints numbers from 1 to 5\n",
    "i = 1 \n",
    "while i < 6:\n",
    "    print(i)\n",
    "    i += 1"
   ]
  },
  {
   "cell_type": "code",
   "execution_count": 5,
   "id": "2c8c7df8-7d05-4cd7-8fbb-195829efa984",
   "metadata": {},
   "outputs": [
    {
     "name": "stdout",
     "output_type": "stream",
     "text": [
      "0\n",
      "2\n",
      "4\n",
      "6\n",
      "8\n",
      "10\n"
     ]
    }
   ],
   "source": [
    "# Write a for loop that prints even numbers from 1 to 10\n",
    "for i in range(0,11,2):\n",
    "    print(i)"
   ]
  },
  {
   "cell_type": "code",
   "execution_count": 79,
   "id": "0b4cf5ba-00e7-4ad9-819c-659a9e41d65f",
   "metadata": {},
   "outputs": [
    {
     "name": "stdout",
     "output_type": "stream",
     "text": [
      "The number of vowels in sugarcane are 4\n"
     ]
    }
   ],
   "source": [
    "# write a loop that counts numbers of vowels in a string\n",
    "count = 0\n",
    "string = \"sugarcane\"\n",
    "for i in string:\n",
    "    if i in [\"a\", \"e\", \"i\", \"o\", \"u\"]:\n",
    "        count = count + 1\n",
    "print(\"The number of vowels in {} are {}\" .format(string,count))"
   ]
  },
  {
   "cell_type": "code",
   "execution_count": 17,
   "id": "df0727e8-3b94-4e5d-8cb3-571aa4243cc3",
   "metadata": {},
   "outputs": [
    {
     "name": "stdout",
     "output_type": "stream",
     "text": [
      "[1, 2, 3, 6, 4, 5]\n"
     ]
    }
   ],
   "source": [
    "# Write a script to add an element at a specific index in a list\n",
    "numbers = [1, 2, 3, 4, 5]\n",
    "numbers.insert(3,6)\n",
    "print(numbers)"
   ]
  },
  {
   "cell_type": "code",
   "execution_count": null,
   "id": "e02b3faf-ed8a-4c24-a234-e575212528d7",
   "metadata": {},
   "outputs": [],
   "source": [
    "# Write a script to find the index of an item in a list"
   ]
  },
  {
   "cell_type": "code",
   "execution_count": null,
   "id": "3f25dadc-4e18-4984-bd4d-3ad40723ccc6",
   "metadata": {},
   "outputs": [],
   "source": []
  },
  {
   "cell_type": "code",
   "execution_count": 24,
   "id": "3dc5235d-5980-45b3-a080-c8eb3ada3eab",
   "metadata": {},
   "outputs": [
    {
     "name": "stdout",
     "output_type": "stream",
     "text": [
      "jet\n",
      "car\n",
      "boat\n",
      "train\n"
     ]
    }
   ],
   "source": [
    "# Write a loop to iterate over a list and print each element\n",
    "list = [\"jet\", \"car\", \"boat\", \"train\"]\n",
    "for i in list:\n",
    "    print(i)"
   ]
  },
  {
   "cell_type": "code",
   "execution_count": 30,
   "id": "7303d027-040e-415d-89ae-7624263275e7",
   "metadata": {},
   "outputs": [
    {
     "name": "stdout",
     "output_type": "stream",
     "text": [
      "1 x 3 =  3\n",
      "2 x 3 =  6\n",
      "3 x 3 =  9\n",
      "4 x 3 = 12\n",
      "5 x 3 = 15\n"
     ]
    }
   ],
   "source": [
    "# Given the list numbers = [1, 2, 3, 4, 5], Write a loop that multiplies each element by 3.\n",
    "numbers = [1, 2, 3, 4, 5]\n",
    "for i in numbers:\n",
    "    print(\"{} x 3 = {:2d}\" .format(i,i*3))"
   ]
  },
  {
   "cell_type": "code",
   "execution_count": 54,
   "id": "973f5080-5aa6-40ed-8264-844feed204c7",
   "metadata": {},
   "outputs": [
    {
     "name": "stdout",
     "output_type": "stream",
     "text": [
      " 2 squared =  4\n",
      " 3 squared =  9\n",
      " 4 squared = 16\n",
      " 5 squared = 25\n",
      " 6 squared = 36\n",
      " 7 squared = 49\n",
      " 8 squared = 64\n",
      " 9 squared = 81\n",
      "10 squared =100\n"
     ]
    }
   ],
   "source": [
    "# Use a loop to print Squares of first 10 natural numbers\n",
    "n = 1 \n",
    "while n < 10:\n",
    "    n += 1\n",
    "    r = n**2\n",
    "    print(\"{:2d} squared ={:3d}\" .format(n,r))\n"
   ]
  },
  {
   "cell_type": "code",
   "execution_count": 8,
   "id": "2deb0125-f53c-46e9-a76d-af2223e8ddbb",
   "metadata": {},
   "outputs": [
    {
     "name": "stdout",
     "output_type": "stream",
     "text": [
      "['j', 'w', 'm', 'a']\n",
      "['j', 'w', 'a']\n"
     ]
    }
   ],
   "source": [
    "# WRITE A LOOP THAT REMOVES ALL OCCURENCES OF A SPECIFIC VALUE FROM A LIST.\n",
    "list = [\"m\", \"j\", \"w\", \"m\", \"a\"]\n",
    "while \"m\" in list:\n",
    "    list.remove(\"m\")\n",
    "    print(list)"
   ]
  },
  {
   "cell_type": "code",
   "execution_count": 10,
   "id": "c29bae5b-ce21-43db-869c-cd44d6f1c790",
   "metadata": {},
   "outputs": [
    {
     "name": "stdout",
     "output_type": "stream",
     "text": [
      "swijwu\n",
      "wijwsjs\n"
     ]
    }
   ],
   "source": [
    "# Given a list of strings,Write a loop that prints only the ones with more than four characters\n",
    "\n",
    "string = [\"whu\", \"swijwu\", \"iwj0\", \"iwj\", \"wijwsjs\"]\n",
    "for i in string:\n",
    "    if len(i) > 4:\n",
    "        print(i)"
   ]
  },
  {
   "cell_type": "code",
   "execution_count": 13,
   "id": "cbf5750b-bf5f-47ce-bbbe-f76fdde55ce9",
   "metadata": {},
   "outputs": [
    {
     "name": "stdout",
     "output_type": "stream",
     "text": [
      "the maximum value is  85\n",
      "minimum value is  2\n"
     ]
    }
   ],
   "source": [
    "# Find the maximum and minimum values in a list using a loop\n",
    "numbers = [3, 46, 24, 85, 9, 2, 34, 13, 6]\n",
    "max_value = max(numbers)\n",
    "print(\"the maximum value is \",max_value)\n",
    "min_value = min(numbers)\n",
    "print(\"minimum value is \",min_value)\n"
   ]
  },
  {
   "cell_type": "code",
   "execution_count": 19,
   "id": "bd6f2934-28e1-49b8-8fa0-d841fbec22a9",
   "metadata": {},
   "outputs": [
    {
     "name": "stdout",
     "output_type": "stream",
     "text": [
      "sum of even numbers in the list is  112\n"
     ]
    }
   ],
   "source": [
    "# Loop to find sum of all even numbers in a list.\n",
    "sum = 0\n",
    "numbers = [3, 46, 24, 85, 9, 2, 34, 13, 6]\n",
    "for i in numbers:\n",
    "    if i % 2 == 0:        \n",
    "        sum += i \n",
    "print(\"sum of even numbers in the list is \",sum)\n",
    "        \n",
    "        "
   ]
  },
  {
   "cell_type": "code",
   "execution_count": 100,
   "id": "7cfac368-db7a-461d-aaec-b9e345b2333a",
   "metadata": {},
   "outputs": [
    {
     "name": "stdout",
     "output_type": "stream",
     "text": [
      "elephantlionzebragirafferhino"
     ]
    }
   ],
   "source": [
    "# concatenate all strings in a list into a single string using a for loop\n",
    "\n",
    "list = [\"elephant\", \"lion\", \"zebra\", \"giraffe\", \"rhino\"]\n",
    "for i in list:\n",
    "    print(i, end = '')\n"
   ]
  },
  {
   "cell_type": "code",
   "execution_count": 99,
   "id": "3fa66f4f-a66f-4959-b959-59cc40c45e9b",
   "metadata": {},
   "outputs": [
    {
     "name": "stdout",
     "output_type": "stream",
     "text": [
      "There are 3 12s in the list\n"
     ]
    }
   ],
   "source": [
    "# write a loop to count the number of occurrences of a specific element in a list\n",
    "count = 0\n",
    "list = [12, 3, 87, 12, 7, 45, 3, 24, 12, 56]\n",
    "for i in list:\n",
    "    if i == 12:\n",
    "        count += 1\n",
    "print(\"There are {} 12s in the list\" .format(count))\n",
    "    "
   ]
  },
  {
   "cell_type": "code",
   "execution_count": 15,
   "id": "a36c062e-ed14-4c2d-9cfe-97ec1091697d",
   "metadata": {},
   "outputs": [
    {
     "name": "stdout",
     "output_type": "stream",
     "text": [
      "30\n",
      "17\n"
     ]
    }
   ],
   "source": [
    "# Given 2 lists write a loop to create a third list that contains the common elements between the two\n",
    "list_1 = [12, 30, 87, 17, 45]\n",
    "list_2 = [24, 56, 17, 30, 50]\n",
    "for i in list_1:\n",
    "    for t in list_2:\n",
    "        if i == t:\n",
    "            print(i)\n",
    "            "
   ]
  },
  {
   "cell_type": "code",
   "execution_count": 22,
   "id": "fa5ec955-7e9c-4a0f-9883-be1d2c2d181d",
   "metadata": {},
   "outputs": [
    {
     "name": "stdin",
     "output_type": "stream",
     "text": [
      "Enter end value 10\n"
     ]
    },
    {
     "name": "stdout",
     "output_type": "stream",
     "text": [
      "55\n"
     ]
    }
   ],
   "source": [
    "# program for sum of natural numbers within a range\n",
    "t =int(input(\"Enter end value\"))+1\n",
    "sum = 0\n",
    "n = 0\n",
    "for i in range(1,t):\n",
    "    n += 1\n",
    "    sum = sum + n\n",
    "print(sum)\n",
    "    "
   ]
  },
  {
   "cell_type": "code",
   "execution_count": 18,
   "id": "e9e6d74e-71b3-4bd0-bb8a-44192feda2c5",
   "metadata": {},
   "outputs": [
    {
     "ename": "ModuleNotFoundError",
     "evalue": "No module named 'pygame'",
     "output_type": "error",
     "traceback": [
      "\u001b[1;31m---------------------------------------------------------------------------\u001b[0m",
      "\u001b[1;31mModuleNotFoundError\u001b[0m                       Traceback (most recent call last)",
      "Cell \u001b[1;32mIn[18], line 1\u001b[0m\n\u001b[1;32m----> 1\u001b[0m \u001b[38;5;28;01mimport\u001b[39;00m \u001b[38;5;21;01mpygame\u001b[39;00m\n\u001b[0;32m      2\u001b[0m \u001b[38;5;28;01mimport\u001b[39;00m \u001b[38;5;21;01mrandom\u001b[39;00m\n\u001b[0;32m      4\u001b[0m \u001b[38;5;66;03m# Initialize Pygame\u001b[39;00m\n",
      "\u001b[1;31mModuleNotFoundError\u001b[0m: No module named 'pygame'"
     ]
    }
   ],
   "source": [
    "import pygame\n",
    "import random\n",
    "\n",
    "# Initialize Pygame\n",
    "pygame.init()\n",
    "\n",
    "# Screen dimensions\n",
    "SCREEN_WIDTH = 800\n",
    "SCREEN_HEIGHT = 600\n",
    "FPS = 60\n",
    "\n",
    "# Colors\n",
    "WHITE = (255, 255, 255)\n",
    "BLACK = (0, 0, 0)\n",
    "RED = (255, 0, 0)\n",
    "\n",
    "# Game variables\n",
    "PLAYER_WIDTH = 50\n",
    "PLAYER_HEIGHT = 60\n",
    "PLAYER_X = 50\n",
    "PLAYER_Y = SCREEN_HEIGHT - PLAYER_HEIGHT - 70\n",
    "PLAYER_SPEED = 5\n",
    "JUMP_STRENGTH = 15\n",
    "GRAVITY = 0.5\n",
    "\n",
    "OBSTACLE_WIDTH = 50\n",
    "OBSTACLE_HEIGHT = 50\n",
    "OBSTACLE_SPEED = 5\n",
    "OBSTACLE_FREQUENCY = 1500  # milliseconds\n",
    "\n",
    "# Create the screen\n",
    "screen = pygame.display.set_mode((SCREEN_WIDTH, SCREEN_HEIGHT))\n",
    "pygame.display.set_caption(\"Running Game\")\n",
    "\n",
    "# Load images\n",
    "player_image = pygame.Surface((PLAYER_WIDTH, PLAYER_HEIGHT))\n",
    "player_image.fill(RED)\n",
    "obstacle_image = pygame.Surface((OBSTACLE_WIDTH, OBSTACLE_HEIGHT))\n",
    "obstacle_image.fill(BLACK)\n",
    "\n",
    "# Game clock\n",
    "clock = pygame.time.Clock()\n",
    "\n",
    "def create_obstacle():\n",
    "    return pygame.Rect(SCREEN_WIDTH, SCREEN_HEIGHT - OBSTACLE_HEIGHT - 70, OBSTACLE_WIDTH, OBSTACLE_HEIGHT)\n",
    "\n",
    "def main():\n",
    "    running = True\n",
    "    player_rect = pygame.Rect(PLAYER_X, PLAYER_Y, PLAYER_WIDTH, PLAYER_HEIGHT)\n",
    "    obstacles = []\n",
    "    jump = False\n",
    "    jump_count = 0\n",
    "    velocity_y = 0\n",
    "    score = 0\n",
    "    last_obstacle_time = pygame.time.get_ticks()\n",
    "\n",
    "    while running:\n",
    "        for event in pygame.event.get():\n",
    "            if event.type == pygame.QUIT:\n",
    "                running = False\n",
    "\n",
    "        keys = pygame.key.get_pressed()\n",
    "        if keys[pygame.K_SPACE] and not jump:\n",
    "            jump = True\n",
    "            velocity_y = -JUMP_STRENGTH\n",
    "\n",
    "        if jump:\n",
    "            player_rect.y += velocity_y\n",
    "            velocity_y += GRAVITY\n",
    "            if player_rect.y >= SCREEN_HEIGHT - PLAYER_HEIGHT - 70:\n",
    "                player_rect.y = SCREEN_HEIGHT - PLAYER_HEIGHT - 70\n",
    "                jump = False\n",
    "\n",
    "        # Update obstacles\n",
    "        current_time = pygame.time.get_ticks()\n",
    "        if current_time - last_obstacle_time > OBSTACLE_FREQUENCY:\n",
    "            obstacles.append(create_obstacle())\n",
    "            last_obstacle_time = current_time\n",
    "\n",
    "        for obs in obstacles:\n",
    "            obs.x -= OBSTACLE_SPEED\n",
    "            if obs.x < -OBSTACLE_WIDTH:\n",
    "                obstacles.remove(obs)\n",
    "                score += 1\n",
    "\n",
    "        # Check for collisions\n",
    "        for obs in obstacles:\n",
    "            if player_rect.colliderect(obs):\n",
    "                running = False\n",
    "\n",
    "        # Drawing\n",
    "        screen.fill(WHITE)\n",
    "        screen.blit(player_image, player_rect.topleft)\n",
    "        for obs in obstacles:\n",
    "            screen.blit(obstacle_image, obs.topleft)\n",
    "\n",
    "        # Display score\n",
    "        font = pygame.font.SysFont(None, 36)\n",
    "        score_text = font.render(f\"Score: {score}\", True, BLACK)\n",
    "        screen.blit(score_text, (10, 10))\n",
    "\n",
    "        pygame.display.flip()\n",
    "        clock.tick(FPS)\n",
    "\n",
    "    pygame.quit()\n",
    "\n",
    "if __name__ == \"__main__\":\n",
    "    main()\n"
   ]
  },
  {
   "cell_type": "code",
   "execution_count": null,
   "id": "7dd03e04-8668-4f41-9e6f-51c44a5d365e",
   "metadata": {},
   "outputs": [],
   "source": []
  }
 ],
 "metadata": {
  "kernelspec": {
   "display_name": "Python 3 (ipykernel)",
   "language": "python",
   "name": "python3"
  },
  "language_info": {
   "codemirror_mode": {
    "name": "ipython",
    "version": 3
   },
   "file_extension": ".py",
   "mimetype": "text/x-python",
   "name": "python",
   "nbconvert_exporter": "python",
   "pygments_lexer": "ipython3",
   "version": "3.11.7"
  }
 },
 "nbformat": 4,
 "nbformat_minor": 5
}
